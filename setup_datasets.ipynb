{
 "cells": [
  {
   "cell_type": "code",
   "execution_count": 2,
   "id": "87adc771-b55a-4475-b82f-ae210be2ebae",
   "metadata": {
    "execution": {
     "iopub.execute_input": "2024-12-18T20:51:04.704163Z",
     "iopub.status.busy": "2024-12-18T20:51:04.703225Z",
     "iopub.status.idle": "2024-12-18T20:51:06.753328Z",
     "shell.execute_reply": "2024-12-18T20:51:06.752402Z",
     "shell.execute_reply.started": "2024-12-18T20:51:04.704123Z"
    },
    "tags": []
   },
   "outputs": [
    {
     "name": "stderr",
     "output_type": "stream",
     "text": [
      "Cloning into 'edm'...\n"
     ]
    }
   ],
   "source": [
    "!git clone  https://github.com/NVlabs/edm"
   ]
  },
  {
   "cell_type": "code",
   "execution_count": 3,
   "id": "b4b3f119-2c37-4fdb-aa8c-ab2a57f5d2b8",
   "metadata": {
    "execution": {
     "iopub.execute_input": "2024-12-18T20:51:36.722723Z",
     "iopub.status.busy": "2024-12-18T20:51:36.721725Z",
     "iopub.status.idle": "2024-12-18T20:51:36.787934Z",
     "shell.execute_reply": "2024-12-18T20:51:36.787138Z",
     "shell.execute_reply.started": "2024-12-18T20:51:36.722679Z"
    },
    "tags": []
   },
   "outputs": [],
   "source": [
    "!cp edm/training/networks.py edm/training/networks_copy.py\n",
    "!cp fid.py edm/fid.py"
   ]
  },
  {
   "cell_type": "code",
   "execution_count": null,
   "id": "ee163128-d624-4be3-a9f3-a7639054ac5a",
   "metadata": {
    "execution": {
     "iopub.execute_input": "2024-12-18T20:53:19.215231Z",
     "iopub.status.busy": "2024-12-18T20:53:19.214202Z"
    },
    "tags": []
   },
   "outputs": [],
   "source": [
    "!wget -N https://www.dropbox.com/s/vkzjokiwof5h8w6/afhq_v2.zip?dl=0 -O ./edm/downloads/afhqv2.zip"
   ]
  },
  {
   "cell_type": "code",
   "execution_count": 17,
   "id": "dba86c42-cee5-47ab-8eef-1a4adc56db39",
   "metadata": {
    "execution": {
     "iopub.execute_input": "2024-12-18T22:38:42.605743Z",
     "iopub.status.busy": "2024-12-18T22:38:42.604704Z",
     "iopub.status.idle": "2024-12-18T22:38:49.634834Z",
     "shell.execute_reply": "2024-12-18T22:38:49.634047Z",
     "shell.execute_reply.started": "2024-12-18T22:38:42.605687Z"
    },
    "tags": []
   },
   "outputs": [],
   "source": [
    "import os \n",
    "import shutil\n",
    "\n",
    "src = '/home/jupyter/datasphere/project/edm/downloads/afhqv2/test/wild'\n",
    "dst = '/home/jupyter/datasphere/project/edm/downloads/afhqv2/wild'\n",
    "\n",
    "for path in os.listdir(src):\n",
    "    if path[-3:] == 'png':\n",
    "        shutil.copyfile(src + '/' + path, dst + '/' + path)"
   ]
  },
  {
   "cell_type": "code",
   "execution_count": 18,
   "id": "961e0054-b1eb-4f41-8da6-38eb7de0ebfb",
   "metadata": {
    "execution": {
     "iopub.execute_input": "2024-12-18T22:40:37.484408Z",
     "iopub.status.busy": "2024-12-18T22:40:37.483399Z",
     "iopub.status.idle": "2024-12-18T22:43:04.014628Z",
     "shell.execute_reply": "2024-12-18T22:43:04.013870Z",
     "shell.execute_reply.started": "2024-12-18T22:40:37.484361Z"
    },
    "tags": []
   },
   "outputs": [
    {
     "name": "stderr",
     "output_type": "stream",
     "text": [
      "100%|██████████| 10634/10634 [02:25<00:00, 72.86it/s]\n"
     ]
    }
   ],
   "source": [
    "!cd edm && python3 dataset_tool.py --source=downloads/afhqv2 \\\n",
    "    --dest=datasets/afhqv2-64x64.zip --resolution=64x64"
   ]
  },
  {
   "cell_type": "code",
   "execution_count": 20,
   "id": "ce3c4e99-fd58-4065-a4be-a73e95efa8cf",
   "metadata": {
    "execution": {
     "iopub.execute_input": "2024-12-18T22:45:31.521673Z",
     "iopub.status.busy": "2024-12-18T22:45:31.520724Z",
     "iopub.status.idle": "2024-12-18T22:45:31.583269Z",
     "shell.execute_reply": "2024-12-18T22:45:31.582412Z",
     "shell.execute_reply.started": "2024-12-18T22:45:31.521633Z"
    },
    "tags": []
   },
   "outputs": [
    {
     "name": "stdout",
     "output_type": "stream",
     "text": [
      "10634 5076\n"
     ]
    }
   ],
   "source": [
    "# sanity check\n",
    "import json \n",
    "total = 0\n",
    "res = 0\n",
    "\n",
    "with open('/home/jupyter/datasphere/project/edm/datasets/afhqv2-64x64/dataset.json') as f:\n",
    "    d = json.load(f)\n",
    "    for k in d['labels']:\n",
    "        res += k[1]\n",
    "        total += 1\n",
    "print(total, res)"
   ]
  },
  {
   "cell_type": "code",
   "execution_count": null,
   "id": "3b159409-be4e-49e8-b38b-a783f6d410fe",
   "metadata": {},
   "outputs": [],
   "source": []
  }
 ],
 "metadata": {
  "kernelspec": {
   "display_name": "DataSphere Kernel",
   "language": "python",
   "name": "python3"
  },
  "language_info": {
   "codemirror_mode": {
    "name": "ipython",
    "version": 3
   },
   "file_extension": ".py",
   "mimetype": "text/x-python",
   "name": "python",
   "nbconvert_exporter": "python",
   "pygments_lexer": "ipython3",
   "version": "3.10.12"
  }
 },
 "nbformat": 4,
 "nbformat_minor": 5
}
